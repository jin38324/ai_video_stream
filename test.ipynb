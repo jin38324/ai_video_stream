{
 "cells": [
  {
   "cell_type": "code",
   "execution_count": 23,
   "metadata": {},
   "outputs": [
    {
     "name": "stdout",
     "output_type": "stream",
     "text": [
      "https://objectstorage.us-ashburn-1.oraclecloud.com/p/KC8WSQz49_flQrzxTZglbWSPkbOuYXORNIXo8LBV52CMyXmILN46VfMBtJs6kXb_/n/sehubjapacprod/b/bucket-media-input/o/hualai/7_家中火灾/7_家中火灾_segment_0000.mp4\n"
     ]
    }
   ],
   "source": [
    "import cv2\n",
    "import os\n",
    "from dotenv import load_dotenv\n",
    "\n",
    "load_dotenv()\n",
    "\n",
    "object_name = \"hualai/7_家中火灾/7_家中火灾_segment_0000.mp4\"\n",
    "REGION = os.getenv('REGION')\n",
    "PAR = os.getenv('PAR')\n",
    "NAMESPACE = os.getenv('NAMESPACE')\n",
    "BUCKET = os.getenv('BUCKET')\n",
    "video_url = f\"https://objectstorage.{REGION}.oraclecloud.com/p/{PAR}/n/{NAMESPACE}/b/{BUCKET}/o/{object_name}\"\n",
    "print(video_url)"
   ]
  },
  {
   "cell_type": "code",
   "execution_count": 24,
   "metadata": {},
   "outputs": [],
   "source": [
    "\n",
    "cap = cv2.VideoCapture(video_url)     # 读取视频\n",
    "for i in range(5):\n",
    "    ret, frame = cap.read() \n",
    "    "
   ]
  },
  {
   "cell_type": "code",
   "execution_count": 25,
   "metadata": {},
   "outputs": [
    {
     "data": {
      "text/plain": [
       "numpy.ndarray"
      ]
     },
     "execution_count": 25,
     "metadata": {},
     "output_type": "execute_result"
    }
   ],
   "source": [
    "type(frame)"
   ]
  },
  {
   "cell_type": "code",
   "execution_count": 7,
   "metadata": {},
   "outputs": [],
   "source": [
    "from pydantic import BaseModel\n",
    "import time\n",
    "\n",
    "class VideoInfo(BaseModel):\n",
    "    # metadata\n",
    "    device_id: str\n",
    "    timestamp: int\n",
    "\n",
    "    # location\n",
    "    region: str\n",
    "    namespace: str\n",
    "    bucket: str\n",
    "    par: str\n",
    "    object_name: str\n",
    "\n",
    "    # video information\n",
    "    fps: float = 30.0\n",
    "    width: int = 1280\n",
    "    height: int = 720\n",
    "\n",
    "video_info = VideoInfo(\n",
    "    device_id=\"123456\",\n",
    "    timestamp=int(time.time()),\n",
    "    region=\"us-ashburn-1\",\n",
    "    namespace=\"sehubjapacprod\",\n",
    "    bucket=\"bucket-media-input\",\n",
    "    par=\"KC8WSQz49_flQrzxTZglbWSPkbOuYXORNIXo8LBV52CMyXmILN46VfMBtJs6kXb_\",\n",
    "    object_name=\"hualai/7_家中火灾/7_家中火灾_segment_0000.mp4\"\n",
    "    )"
   ]
  },
  {
   "cell_type": "code",
   "execution_count": 22,
   "metadata": {},
   "outputs": [
    {
     "name": "stdout",
     "output_type": "stream",
     "text": [
      "{\"device_id\":\"123456\",\"timestamp\":1745728400,\"region\":\"us-ashburn-1\",\"namespace\":\"sehubjapacprod\",\"bucket\":\"bucket-media-input\",\"par\":\"KC8WSQz49_flQrzxTZglbWSPkbOuYXORNIXo8LBV52CMyXmILN46VfMBtJs6kXb_\",\"object_name\":\"hualai/7_家中火灾/7_家中火灾_segment_0000.mp4\",\"fps\":30.0,\"width\":1280,\"height\":720}\n"
     ]
    }
   ],
   "source": [
    "print(video_info.model_dump_json())"
   ]
  },
  {
   "cell_type": "code",
   "execution_count": null,
   "metadata": {},
   "outputs": [],
   "source": [
    "from utils.models import VideoInfo, LLMOutput, FrameInfo\n",
    "\n",
    "frame_info = FrameInfo(\n",
    "    device_id=\"123456\",\n",
    "    timestamp=int(time.time()),\n",
    "    object_name=\"hualai/7_家中火灾/7_家中火灾_segment_0000.mp4\",\n",
    "    ssim=0.9,\n",
    "    thumbnail=\"thumbnail\",\n",
    "    llm_output=LLMOutput(description=\"description\", event_catagory=\"event_catagory\")\n",
    "    )\n",
    "\n",
    "print(frame_info.model_dump_json())"
   ]
  },
  {
   "cell_type": "code",
   "execution_count": 29,
   "metadata": {},
   "outputs": [
    {
     "ename": "TypeError",
     "evalue": "int() argument must be a string, a bytes-like object or a real number, not 'datetime.datetime'",
     "output_type": "error",
     "traceback": [
      "\u001b[1;31m---------------------------------------------------------------------------\u001b[0m",
      "\u001b[1;31mTypeError\u001b[0m                                 Traceback (most recent call last)",
      "Cell \u001b[1;32mIn[29], line 2\u001b[0m\n\u001b[0;32m      1\u001b[0m \u001b[38;5;28;01mimport\u001b[39;00m \u001b[38;5;21;01mdatetime\u001b[39;00m\n\u001b[1;32m----> 2\u001b[0m \u001b[38;5;28;43mint\u001b[39;49m\u001b[43m(\u001b[49m\u001b[43mdatetime\u001b[49m\u001b[38;5;241;43m.\u001b[39;49m\u001b[43mdatetime\u001b[49m\u001b[38;5;241;43m.\u001b[39;49m\u001b[43mnow\u001b[49m\u001b[43m(\u001b[49m\u001b[43m)\u001b[49m\u001b[43m)\u001b[49m\n",
      "\u001b[1;31mTypeError\u001b[0m: int() argument must be a string, a bytes-like object or a real number, not 'datetime.datetime'"
     ]
    }
   ],
   "source": [
    "import datetime\n",
    "int(datetime.datetime.now())"
   ]
  },
  {
   "cell_type": "code",
   "execution_count": 35,
   "metadata": {},
   "outputs": [
    {
     "data": {
      "text/plain": [
       "1745740802815"
      ]
     },
     "execution_count": 35,
     "metadata": {},
     "output_type": "execute_result"
    }
   ],
   "source": [
    "# current timestamp with millisecond\n",
    "import time\n",
    "\n",
    "timestamp = int(time.time() * 1000)\n",
    "timestamp"
   ]
  },
  {
   "cell_type": "code",
   "execution_count": null,
   "metadata": {},
   "outputs": [
    {
     "name": "stdout",
     "output_type": "stream",
     "text": [
      "{\"device_id\":\"123456\",\"timestamp\":1745728400,\"region\":\"us-ashburn-1\",\"namespace\":\"sehubjapacprod\",\"bucket\":\"bucket-media-input\",\"par\":\"KC8WSQz49_flQrzxTZglbWSPkbOuYXORNIXo8LBV52CMyXmILN46VfMBtJs6kXb_\",\"object_name\":\"hualai/7_家中火灾/7_家中火灾_segment_0000.mp4\",\"fps\":30.0,\"width\":1280,\"height\":720}\n"
     ]
    }
   ],
   "source": [
    "print(video_info.model_dump_json())"
   ]
  },
  {
   "cell_type": "code",
   "execution_count": null,
   "metadata": {},
   "outputs": [
    {
     "name": "stdout",
     "output_type": "stream",
     "text": [
      "{\"device_id\":\"123456\",\"timestamp\":1745728400,\"region\":\"us-ashburn-1\",\"namespace\":\"sehubjapacprod\",\"bucket\":\"bucket-media-input\",\"par\":\"KC8WSQz49_flQrzxTZglbWSPkbOuYXORNIXo8LBV52CMyXmILN46VfMBtJs6kXb_\",\"object_name\":\"hualai/7_家中火灾/7_家中火灾_segment_0000.mp4\",\"fps\":30.0,\"width\":1280,\"height\":720}\n"
     ]
    }
   ],
   "source": [
    "print(video_info.model_dump_json())"
   ]
  },
  {
   "cell_type": "code",
   "execution_count": 39,
   "metadata": {},
   "outputs": [
    {
     "data": {
      "text/plain": [
       "'2025-04-27 12:33:20.123000'"
      ]
     },
     "execution_count": 39,
     "metadata": {},
     "output_type": "execute_result"
    }
   ],
   "source": [
    "import datetime\n",
    "timestamp = 1745728400123/1000\n",
    "s = datetime.datetime.fromtimestamp(timestamp).strftime(\"%Y-%m-%d %H:%M:%S.%f\")\n",
    "s"
   ]
  },
  {
   "cell_type": "code",
   "execution_count": 1,
   "metadata": {},
   "outputs": [],
   "source": [
    "import httpx\n",
    "async with httpx.AsyncClient() as client:\n",
    "    response = await client.get(\"http://localhost:8088/fakellm\")\n",
    "    "
   ]
  },
  {
   "cell_type": "code",
   "execution_count": 4,
   "metadata": {},
   "outputs": [
    {
     "data": {
      "text/plain": [
       "'{\"description\":\"室内灯光正常，家具摆放整齐。\",\"event_category\":\"无事件\",\"trigger_alarm\":0.05}'"
      ]
     },
     "execution_count": 4,
     "metadata": {},
     "output_type": "execute_result"
    }
   ],
   "source": [
    "response.text"
   ]
  },
  {
   "cell_type": "code",
   "execution_count": null,
   "metadata": {},
   "outputs": [],
   "source": []
  }
 ],
 "metadata": {
  "kernelspec": {
   "display_name": "Python 3",
   "language": "python",
   "name": "python3"
  },
  "language_info": {
   "codemirror_mode": {
    "name": "ipython",
    "version": 3
   },
   "file_extension": ".py",
   "mimetype": "text/x-python",
   "name": "python",
   "nbconvert_exporter": "python",
   "pygments_lexer": "ipython3",
   "version": "3.11.8"
  }
 },
 "nbformat": 4,
 "nbformat_minor": 2
}
